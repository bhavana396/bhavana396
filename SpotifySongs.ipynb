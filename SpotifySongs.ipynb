{
 "cells": [
  {
   "cell_type": "code",
   "execution_count": 1,
   "id": "bcd7c4df",
   "metadata": {},
   "outputs": [],
   "source": [
    "import tkinter as tk\n",
    "import pandas as pd"
   ]
  },
  {
   "cell_type": "code",
   "execution_count": 2,
   "id": "95f42bba",
   "metadata": {},
   "outputs": [],
   "source": [
    "def load_data(file_path):\n",
    "    # Load the CSV file into a DataFrame\n",
    "    df = pd.read_csv(file_path)\n",
    "    return df"
   ]
  },
  {
   "cell_type": "code",
   "execution_count": 3,
   "id": "42e8425d",
   "metadata": {},
   "outputs": [],
   "source": [
    "def get_unique_values(column_name):\n",
    "    # Get unique values from the specified column\n",
    "    unique_values = df[column_name].unique()\n",
    "    return unique_values"
   ]
  },
  {
   "cell_type": "code",
   "execution_count": 4,
   "id": "09fa677a",
   "metadata": {},
   "outputs": [],
   "source": [
    "def get_sorted_tracks(playlist_name, playlist_genre, playlist_subgenre):\n",
    "    # Filter the DataFrame based on the selected values\n",
    "    filtered_df = df[\n",
    "        (df['playlist_name'] == playlist_name) &\n",
    "        (df['playlist_genre'] == playlist_genre) &\n",
    "        (df['playlist_subgenre'] == playlist_subgenre)\n",
    "    ]\n",
    "    tracks = filtered_df['track_name'].tolist()\n",
    "    tracks.sort()\n",
    "    return tracks"
   ]
  },
  {
   "cell_type": "code",
   "execution_count": 5,
   "id": "06a51a25",
   "metadata": {},
   "outputs": [],
   "source": [
    "def search_songs():\n",
    "    # Get the selected values from the dropdowns\n",
    "    selected_playlist = playlist_var.get()\n",
    "    selected_genre = genre_var.get()\n",
    "    selected_subgenre = subgenre_var.get()"
   ]
  },
  {
   "cell_type": "code",
   "execution_count": 7,
   "id": "fdbd2674",
   "metadata": {},
   "outputs": [
    {
     "ename": "NameError",
     "evalue": "name 'selected_playlist' is not defined",
     "output_type": "error",
     "traceback": [
      "\u001b[1;31m---------------------------------------------------------------------------\u001b[0m",
      "\u001b[1;31mNameError\u001b[0m                                 Traceback (most recent call last)",
      "Cell \u001b[1;32mIn[7], line 2\u001b[0m\n\u001b[0;32m      1\u001b[0m \u001b[38;5;66;03m# Get the sorted tracks based on the selected values\u001b[39;00m\n\u001b[1;32m----> 2\u001b[0m tracks \u001b[38;5;241m=\u001b[39m get_sorted_tracks(\u001b[43mselected_playlist\u001b[49m, selected_genre, selected_subgenre)\n",
      "\u001b[1;31mNameError\u001b[0m: name 'selected_playlist' is not defined"
     ]
    }
   ],
   "source": [
    "\n",
    "    # Get the sorted tracks based on the selected values\n",
    "    tracks = get_sorted_tracks(selected_playlist, selected_genre, selected_subgenre)\n"
   ]
  },
  {
   "cell_type": "code",
   "execution_count": null,
   "id": "654112c6",
   "metadata": {},
   "outputs": [],
   "source": [
    " # Clear the current items in the list box\n",
    "    list_box.delete(0, 'end')"
   ]
  },
  {
   "cell_type": "code",
   "execution_count": null,
   "id": "91cb65d8",
   "metadata": {},
   "outputs": [],
   "source": [
    "# Display the sorted tracks in the list box\n",
    "    for track in tracks:\n",
    "        list_box.insert('end', track)"
   ]
  },
  {
   "cell_type": "code",
   "execution_count": null,
   "id": "ab7f06e6",
   "metadata": {},
   "outputs": [],
   "source": [
    "# Create the main window\n",
    "window = tk.Tk()\n",
    "window.title(\"Spotify Songs Project by Bhavana\")"
   ]
  },
  {
   "cell_type": "code",
   "execution_count": null,
   "id": "02a92848",
   "metadata": {},
   "outputs": [],
   "source": [
    "# Load the data from the CSV file\n",
    "df = load_data(\"/Users/Bhavana/Documents/Minor Project/spotify dataset.csv\")\n"
   ]
  },
  {
   "cell_type": "code",
   "execution_count": null,
   "id": "bfa47294",
   "metadata": {},
   "outputs": [],
   "source": [
    "\n",
    "# Create the playlist_name dropdown\n",
    "playlist_var = tk.StringVar(window)\n",
    "playlist_label = tk.Label(window, text=\"Playlist Name:\")\n",
    "playlist_label.pack(anchor='w', padx=10, pady=5)\n",
    "playlist_dropdown = tk.OptionMenu(window, playlist_var, *get_unique_values('playlist_name'))\n",
    "playlist_dropdown.config(width=20)\n",
    "playlist_dropdown.pack(anchor='w', padx=10)"
   ]
  },
  {
   "cell_type": "code",
   "execution_count": null,
   "id": "2e723ac4",
   "metadata": {},
   "outputs": [],
   "source": [
    "# Create the playlist_genre dropdown\n",
    "genre_var = tk.StringVar(window)\n",
    "genre_label = tk.Label(window, text=\"Playlist Genre:\")\n",
    "genre_label.pack(anchor='w', padx=10, pady=5)\n",
    "genre_dropdown = tk.OptionMenu(window, genre_var, *get_unique_values('playlist_genre'))\n",
    "genre_dropdown.config(width=20)\n",
    "genre_dropdown.pack(anchor='w', padx=10)\n"
   ]
  },
  {
   "cell_type": "code",
   "execution_count": null,
   "id": "243b8d6d",
   "metadata": {},
   "outputs": [],
   "source": [
    "# Create the playlist_subgenre dropdown\n",
    "subgenre_var = tk.StringVar(window)\n",
    "subgenre_label = tk.Label(window, text=\"Playlist Subgenre:\")\n",
    "subgenre_label.pack(anchor='w', padx=10, pady=5)\n",
    "subgenre_dropdown = tk.OptionMenu(window, subgenre_var, *get_unique_values('playlist_subgenre'))\n",
    "subgenre_dropdown.config(width=20)\n",
    "subgenre_dropdown.pack(anchor='w', padx=10)"
   ]
  },
  {
   "cell_type": "code",
   "execution_count": null,
   "id": "5d1866fd",
   "metadata": {},
   "outputs": [],
   "source": [
    "# Create the search button\n",
    "search_button = tk.Button(window, text=\"Search My Song\", command=search_songs)\n",
    "search_button.pack(anchor='w', padx=10, pady=10)\n"
   ]
  },
  {
   "cell_type": "code",
   "execution_count": null,
   "id": "f94cabb7",
   "metadata": {},
   "outputs": [],
   "source": [
    "# Create the empty list box\n",
    "list_box = tk.Listbox(window, width=40)\n",
    "list_box.pack(fill='both', expand=True, padx=10)\n"
   ]
  },
  {
   "cell_type": "code",
   "execution_count": null,
   "id": "2d7e9c8c",
   "metadata": {},
   "outputs": [],
   "source": [
    "# Start the GUI event loop\n",
    "window.mainloop()"
   ]
  }
 ],
 "metadata": {
  "kernelspec": {
   "display_name": "Python 3 (ipykernel)",
   "language": "python",
   "name": "python3"
  },
  "language_info": {
   "codemirror_mode": {
    "name": "ipython",
    "version": 3
   },
   "file_extension": ".py",
   "mimetype": "text/x-python",
   "name": "python",
   "nbconvert_exporter": "python",
   "pygments_lexer": "ipython3",
   "version": "3.10.9"
  }
 },
 "nbformat": 4,
 "nbformat_minor": 5
}
